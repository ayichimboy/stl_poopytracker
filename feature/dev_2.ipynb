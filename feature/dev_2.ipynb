{
 "cells": [
  {
   "cell_type": "code",
   "execution_count": 5,
   "id": "c366ccb3",
   "metadata": {},
   "outputs": [],
   "source": [
    "# import libraries\n",
    "import pandas as pd             \n",
    "import numpy as np                   \n",
    "import seaborn as sns                          \n",
    "import matplotlib.pyplot as plt                 \n"
   ]
  },
  {
   "cell_type": "code",
   "execution_count": 71,
   "id": "a1f6340d",
   "metadata": {},
   "outputs": [
    {
     "name": "stdout",
     "output_type": "stream",
     "text": [
      "['False', 'None', 'True', 'and', 'as', 'assert', 'async', 'await', 'break', 'class', 'continue', 'def', 'del', 'elif', 'else', 'except', 'finally', 'for', 'from', 'global', 'if', 'import', 'in', 'is', 'lambda', 'nonlocal', 'not', 'or', 'pass', 'raise', 'return', 'try', 'while', 'with', 'yield']\n"
     ]
    }
   ],
   "source": [
    "# reiveiwing all python keywords\n",
    "import keyword\n",
    "keyword_list = keyword.kwlist\n",
    "print(keyword_list)\n"
   ]
  },
  {
   "cell_type": "code",
   "execution_count": 73,
   "id": "e6410451",
   "metadata": {},
   "outputs": [
    {
     "name": "stdout",
     "output_type": "stream",
     "text": [
      "False\n",
      "None\n",
      "True\n",
      "and\n",
      "as\n",
      "assert\n",
      "async\n",
      "await\n",
      "break\n",
      "class\n",
      "continue\n",
      "def\n",
      "del\n",
      "elif\n",
      "else\n",
      "except\n",
      "finally\n",
      "for\n",
      "from\n",
      "global\n",
      "if\n",
      "import\n",
      "in\n",
      "is\n",
      "lambda\n",
      "nonlocal\n",
      "not\n",
      "or\n",
      "pass\n",
      "raise\n",
      "return\n",
      "try\n",
      "while\n",
      "with\n",
      "yield\n"
     ]
    }
   ],
   "source": [
    "for keword in keyword_list:\n",
    "    print(keword)"
   ]
  },
  {
   "cell_type": "code",
   "execution_count": 74,
   "id": "623c7994",
   "metadata": {},
   "outputs": [
    {
     "name": "stdout",
     "output_type": "stream",
     "text": [
      "1:False\n",
      "2:None\n",
      "3:True\n",
      "4:and\n",
      "5:as\n",
      "6:assert\n",
      "7:async\n",
      "8:await\n",
      "9:break\n",
      "10:class\n",
      "11:continue\n",
      "12:def\n",
      "13:del\n",
      "14:elif\n",
      "15:else\n",
      "16:except\n",
      "17:finally\n",
      "18:for\n",
      "19:from\n",
      "20:global\n",
      "21:if\n",
      "22:import\n",
      "23:in\n",
      "24:is\n",
      "25:lambda\n",
      "26:nonlocal\n",
      "27:not\n",
      "28:or\n",
      "29:pass\n",
      "30:raise\n",
      "31:return\n",
      "32:try\n",
      "33:while\n",
      "34:with\n",
      "35:yield\n"
     ]
    }
   ],
   "source": [
    "for index, word in enumerate(keyword_list, start=1):\n",
    "    print(f'{index}:{word}')"
   ]
  },
  {
   "cell_type": "code",
   "execution_count": 28,
   "id": "47e033af",
   "metadata": {},
   "outputs": [
    {
     "name": "stdout",
     "output_type": "stream",
     "text": [
      "[0, 1, 2, 3, 4, 5, 6, 7, 8, 9, 10]\n"
     ]
    }
   ],
   "source": [
    "# use keywords in a function and list analysis\n",
    "\n",
    "myarray = np.arange(0,11,1)\n",
    "alist = myarray.tolist()\n",
    "\n",
    "print((alist))"
   ]
  },
  {
   "cell_type": "code",
   "execution_count": 16,
   "id": "86d001bd",
   "metadata": {},
   "outputs": [
    {
     "name": "stdout",
     "output_type": "stream",
     "text": [
      "[0, 1, 2, 3, 4]\n"
     ]
    }
   ],
   "source": [
    "# list comprehension \n",
    "value = 5\n",
    "dvalue = [n for n in alist if value > n ]\n",
    "\n",
    "print(dvalue)"
   ]
  },
  {
   "cell_type": "code",
   "execution_count": 33,
   "id": "830677f1",
   "metadata": {},
   "outputs": [
    {
     "name": "stdout",
     "output_type": "stream",
     "text": [
      "[36, 49, 64, 81, 100]\n"
     ]
    }
   ],
   "source": [
    "cst = []\n",
    "vet = None\n",
    "\n",
    "def find_me(mylist, vet):\n",
    "\n",
    "    for value in mylist:\n",
    "        \n",
    "        if value > vet:\n",
    "            result = value **2\n",
    "            cst.append(result)\n",
    "    \n",
    "    return cst\n",
    "\n",
    "drof = find_me(alist, 5)\n",
    "print(drof)"
   ]
  },
  {
   "cell_type": "code",
   "execution_count": null,
   "id": "e96c8247",
   "metadata": {},
   "outputs": [
    {
     "data": {
      "text/plain": [
       "[0, 1, 4, 9, 16, 25, 36, 49, 64, 81, 100]"
      ]
     },
     "execution_count": 45,
     "metadata": {},
     "output_type": "execute_result"
    }
   ],
   "source": [
    "# apply lambda funtion\n",
    "# map acts like apply, takes function and then the dataset\n",
    "new_value = list(map(lambda x: x**2, alist))\n",
    "new_value\n"
   ]
  },
  {
   "cell_type": "code",
   "execution_count": 42,
   "id": "37bb3027",
   "metadata": {},
   "outputs": [
    {
     "data": {
      "application/vnd.microsoft.datawrangler.viewer.v0+json": {
       "columns": [
        {
         "name": "index",
         "rawType": "int64",
         "type": "integer"
        },
        {
         "name": "0",
         "rawType": "int64",
         "type": "integer"
        }
       ],
       "ref": "100bce53-a02b-4d43-90e4-244d0188e37e",
       "rows": [
        [
         "0",
         "0"
        ],
        [
         "1",
         "1"
        ],
        [
         "2",
         "4"
        ],
        [
         "3",
         "9"
        ],
        [
         "4",
         "16"
        ],
        [
         "5",
         "25"
        ],
        [
         "6",
         "36"
        ],
        [
         "7",
         "49"
        ],
        [
         "8",
         "64"
        ],
        [
         "9",
         "81"
        ],
        [
         "10",
         "100"
        ]
       ],
       "shape": {
        "columns": 1,
        "rows": 11
       }
      },
      "text/plain": [
       "0       0\n",
       "1       1\n",
       "2       4\n",
       "3       9\n",
       "4      16\n",
       "5      25\n",
       "6      36\n",
       "7      49\n",
       "8      64\n",
       "9      81\n",
       "10    100\n",
       "dtype: int64"
      ]
     },
     "execution_count": 42,
     "metadata": {},
     "output_type": "execute_result"
    }
   ],
   "source": [
    "pd.Series(alist).apply(lambda x:x**2)"
   ]
  },
  {
   "cell_type": "code",
   "execution_count": 59,
   "id": "32654659",
   "metadata": {},
   "outputs": [
    {
     "name": "stdout",
     "output_type": "stream",
     "text": [
      "[0, 1, 2, 3, 4, 5, 6, 7, 8, 9, 10]\n"
     ]
    }
   ],
   "source": [
    "alist.sort()\n",
    "print(alist)"
   ]
  },
  {
   "cell_type": "code",
   "execution_count": 70,
   "id": "5f0fa3c4",
   "metadata": {},
   "outputs": [
    {
     "name": "stdout",
     "output_type": "stream",
     "text": [
      "0\n",
      "1\n",
      "4\n",
      "9\n",
      "16\n",
      "25\n",
      "36\n",
      "49\n",
      "64\n",
      "81\n",
      "100\n"
     ]
    }
   ],
   "source": [
    "value = 200\n",
    "finale = []\n",
    "\n",
    "for value in alist: \n",
    "    try:\n",
    "        if value < 100:\n",
    "            res = value ** 2\n",
    "            finale.append(res)\n",
    "            print(res)\n",
    "    except TypeError:\n",
    "        print(\"Index out of range\")\n",
    "        \n",
    "# print(finale)"
   ]
  }
 ],
 "metadata": {
  "kernelspec": {
   "display_name": ".venv",
   "language": "python",
   "name": "python3"
  },
  "language_info": {
   "codemirror_mode": {
    "name": "ipython",
    "version": 3
   },
   "file_extension": ".py",
   "mimetype": "text/x-python",
   "name": "python",
   "nbconvert_exporter": "python",
   "pygments_lexer": "ipython3",
   "version": "3.11.9"
  }
 },
 "nbformat": 4,
 "nbformat_minor": 5
}
